{
 "cells": [
  {
   "cell_type": "code",
   "execution_count": 0,
   "metadata": {
    "application/vnd.databricks.v1+cell": {
     "cellMetadata": {
      "byteLimit": 2048000,
      "rowLimit": 10000
     },
     "inputWidgets": {},
     "nuid": "ebf923e5-4eaf-498b-bb8a-20625321a976",
     "showTitle": false,
     "title": ""
    }
   },
   "outputs": [
    {
     "output_type": "stream",
     "name": "stdout",
     "output_type": "stream",
     "text": [
      "Python interpreter will be restarted.\nRequirement already satisfied: pandas in /databricks/python3/lib/python3.9/site-packages (1.4.2)\nRequirement already satisfied: python-dateutil>=2.8.1 in /databricks/python3/lib/python3.9/site-packages (from pandas) (2.8.2)\nRequirement already satisfied: pytz>=2020.1 in /databricks/python3/lib/python3.9/site-packages (from pandas) (2021.3)\nRequirement already satisfied: numpy>=1.18.5 in /databricks/python3/lib/python3.9/site-packages (from pandas) (1.21.5)\nRequirement already satisfied: six>=1.5 in /databricks/python3/lib/python3.9/site-packages (from python-dateutil>=2.8.1->pandas) (1.16.0)\nPython interpreter will be restarted.\n"
     ]
    }
   ],
   "source": [
    "%pip install pandas"
   ]
  },
  {
   "cell_type": "code",
   "execution_count": 0,
   "metadata": {
    "application/vnd.databricks.v1+cell": {
     "cellMetadata": {
      "byteLimit": 2048000,
      "rowLimit": 10000
     },
     "inputWidgets": {},
     "nuid": "94a76187-b983-4047-ab66-213c3c6b598c",
     "showTitle": false,
     "title": ""
    }
   },
   "outputs": [
    {
     "output_type": "display_data",
     "data": {
      "application/vnd.databricks.v1+bamboolib_hint": "{\"pd.DataFrames\": [], \"version\": \"0.0.1\"}",
      "text/plain": []
     },
     "metadata": {},
     "output_type": "display_data"
    }
   ],
   "source": [
    "# If you have the File > Upload Data menu option, follow the instructions in the previous cell to upload the data from your local machine.\n",
    "# The generated code, including the required edits described in the previous cell, is shown here for reference.\n",
    "\n",
    "import pandas as pd\n",
    "\n",
    "red_wine = pd.read_csv(\"/dbfs/FileStore/shared_uploads/ganendra.vadlamu@tigeranalytics.com/winequality_red.csv\",sep=';')\n",
    "white_wine = pd.read_csv(\"/dbfs/FileStore/shared_uploads/ganendra.vadlamu@tigeranalytics.com/winequality_white.csv\",sep=';')\n",
    "\n",
    "#Merge the two DataFrames into a single dataset, with a new binary feature \"is_red\" that indicates whether the wine is red or white.\n",
    "red_wine['is_red'] = 1\n",
    "white_wine['is_red'] = 0\n",
    "\n",
    "data = pd.concat([red_wine, white_wine], axis=0)\n",
    "\n",
    "# Remove spaces from column names\n",
    "data.rename(columns=lambda x: x.replace(' ', '_'), inplace=True)\n",
    "\n",
    "#import seaborn as sns\n",
    "#sns.distplot(data.quality, kde=False)\n",
    "#data.isna().any()\n",
    "#data.head()\n",
    "\n",
    "high_quality = (data.quality >= 7).astype(int)\n",
    "data.quality = high_quality\n",
    "\n",
    "data.to_csv('/dbfs/FileStore/shared_uploads/ganendra.vadlamu@tigeranalytics.com/preprocessed_data.csv', index=False)"
   ]
  }
 ],
 "metadata": {
  "application/vnd.databricks.v1+notebook": {
   "dashboards": [],
   "language": "python",
   "notebookMetadata": {
    "mostRecentlyExecutedCommandWithImplicitDF": {
     "commandId": -1,
     "dataframes": [
      "_sqldf"
     ]
    },
    "pythonIndentUnit": 4
   },
   "notebookName": "data_preprocessing",
   "widgets": {}
  }
 },
 "nbformat": 4,
 "nbformat_minor": 0
}
